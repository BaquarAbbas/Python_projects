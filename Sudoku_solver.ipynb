{
  "nbformat": 4,
  "nbformat_minor": 0,
  "metadata": {
    "colab": {
      "name": "Sudoku_solver.ipynb",
      "provenance": [],
      "collapsed_sections": [],
      "authorship_tag": "ABX9TyNR/KcjdAIldQXPfYw1lyjK",
      "include_colab_link": true
    },
    "kernelspec": {
      "name": "python3",
      "display_name": "Python 3"
    }
  },
  "cells": [
    {
      "cell_type": "markdown",
      "metadata": {
        "id": "view-in-github",
        "colab_type": "text"
      },
      "source": [
        "<a href=\"https://colab.research.google.com/github/BaquarAbbas/Python_projects/blob/main/Sudoku_solver.ipynb\" target=\"_parent\"><img src=\"https://colab.research.google.com/assets/colab-badge.svg\" alt=\"Open In Colab\"/></a>"
      ]
    },
    {
      "cell_type": "code",
      "metadata": {
        "id": "5EtSaRwHQ5Bt"
      },
      "source": [
        "#Sudoku_Solver \r\n",
        "board = [\r\n",
        "    [7,8,0,4,0,0,1,2,0],\r\n",
        "    [6,0,0,0,7,5,0,0,9],\r\n",
        "    [0,0,0,6,0,1,0,7,8],\r\n",
        "    [0,0,7,0,4,0,2,6,0],\r\n",
        "    [0,0,1,0,5,0,9,3,0],\r\n",
        "    [9,0,4,0,6,0,0,0,5],\r\n",
        "    [0,7,0,3,0,0,0,1,2],\r\n",
        "    [1,2,0,0,0,7,4,0,0],\r\n",
        "    [0,4,9,2,0,6,0,0,7]\r\n",
        "]"
      ],
      "execution_count": 17,
      "outputs": []
    },
    {
      "cell_type": "code",
      "metadata": {
        "id": "BMaTNQsfRQSn"
      },
      "source": [
        "def print_board(bo):\r\n",
        "  for i in range(len(bo)):\r\n",
        "        if i % 3 == 0 and i != 0:\r\n",
        "            print(\"- - - - - - - - - - - - - \")\r\n",
        "\r\n",
        "        for j in range(len(bo[0])):\r\n",
        "            if j % 3 == 0 and j != 0:\r\n",
        "                print(\" | \", end=\"\")\r\n",
        "\r\n",
        "            if j == 8:\r\n",
        "                print(bo[i][j])\r\n",
        "            else:\r\n",
        "                print(str(bo[i][j]) + \" \", end=\"\")\r\n"
      ],
      "execution_count": 20,
      "outputs": []
    },
    {
      "cell_type": "code",
      "metadata": {
        "colab": {
          "base_uri": "https://localhost:8080/"
        },
        "id": "DXlRuVaXUJMl",
        "outputId": "73c2143b-378c-4f9b-f38e-bdbc065850a8"
      },
      "source": [
        "print_board(board)"
      ],
      "execution_count": 21,
      "outputs": [
        {
          "output_type": "stream",
          "text": [
            "7 8 0  | 4 0 0  | 1 2 0\n",
            "6 0 0  | 0 7 5  | 0 0 9\n",
            "0 0 0  | 6 0 1  | 0 7 8\n",
            "- - - - - - - - - - - - - \n",
            "0 0 7  | 0 4 0  | 2 6 0\n",
            "0 0 1  | 0 5 0  | 9 3 0\n",
            "9 0 4  | 0 6 0  | 0 0 5\n",
            "- - - - - - - - - - - - - \n",
            "0 7 0  | 3 0 0  | 0 1 2\n",
            "1 2 0  | 0 0 7  | 4 0 0\n",
            "0 4 9  | 2 0 6  | 0 0 7\n"
          ],
          "name": "stdout"
        }
      ]
    },
    {
      "cell_type": "code",
      "metadata": {
        "id": "Uq6X8U_lWTyj"
      },
      "source": [
        "def find_empty(bo):\r\n",
        "  for i in range(len(bo)):\r\n",
        "    for j in range(len(bo[0])):\r\n",
        "      if bo[i][j] == 0:\r\n",
        "        return (i,j)  \r\n",
        "  return None \r\n"
      ],
      "execution_count": 23,
      "outputs": []
    },
    {
      "cell_type": "code",
      "metadata": {
        "id": "umELpGAUXoOZ"
      },
      "source": [
        "def valid(bo,num,pos):\r\n",
        "  #checkrow\r\n",
        "  for i in range(len(bo[0])):\r\n",
        "    if bo[pos[0]][i] == num and pos[1] != i:\r\n",
        "      return False \r\n",
        "  #checkColumn \r\n",
        "  for i in range(len(bo)):\r\n",
        "    if bo[i][pos[1]] == num and pos[0] != i:\r\n",
        "      return False\r\n",
        "  # Check box\r\n",
        "    box_x = pos[1] // 3\r\n",
        "    box_y = pos[0] // 3\r\n",
        "\r\n",
        "    for i in range(box_y*3, box_y*3 + 3):\r\n",
        "        for j in range(box_x * 3, box_x*3 + 3):\r\n",
        "            if bo[i][j] == num and (i,j) != pos:\r\n",
        "                return False\r\n",
        "\r\n",
        "    return True\r\n",
        " "
      ],
      "execution_count": 27,
      "outputs": []
    },
    {
      "cell_type": "code",
      "metadata": {
        "id": "IC5aSS-pbtUi"
      },
      "source": [
        "def solve(bo):\r\n",
        "    find = find_empty(bo)\r\n",
        "    if not find:\r\n",
        "        return True\r\n",
        "    else:\r\n",
        "        row, col = find\r\n",
        "\r\n",
        "    for i in range(1,10):\r\n",
        "        if valid(bo, i, (row, col)):\r\n",
        "            bo[row][col] = i\r\n",
        "\r\n",
        "            if solve(bo):\r\n",
        "                return True\r\n",
        "\r\n",
        "            bo[row][col] = 0\r\n",
        "\r\n",
        "    return False"
      ],
      "execution_count": 28,
      "outputs": []
    },
    {
      "cell_type": "code",
      "metadata": {
        "colab": {
          "base_uri": "https://localhost:8080/"
        },
        "id": "47U1McChcY1A",
        "outputId": "97782c06-ac24-4a18-b745-a2b3bc9857c0"
      },
      "source": [
        "print_board(board)\r\n",
        "solve(board)\r\n",
        "print(\"___________________\")\r\n",
        "print_board(board)"
      ],
      "execution_count": 29,
      "outputs": [
        {
          "output_type": "stream",
          "text": [
            "7 8 5  | 4 3 9  | 1 2 6\n",
            "6 1 2  | 0 7 5  | 0 0 9\n",
            "0 0 0  | 6 0 1  | 0 7 8\n",
            "- - - - - - - - - - - - - \n",
            "0 0 7  | 0 4 0  | 2 6 0\n",
            "0 0 1  | 0 5 0  | 9 3 0\n",
            "9 0 4  | 0 6 0  | 0 0 5\n",
            "- - - - - - - - - - - - - \n",
            "0 7 0  | 3 0 0  | 0 1 2\n",
            "1 2 0  | 0 0 7  | 4 0 0\n",
            "0 4 9  | 2 0 6  | 0 0 7\n",
            "___________________\n",
            "7 8 5  | 4 3 9  | 1 2 6\n",
            "6 1 2  | 8 7 5  | 3 4 9\n",
            "3 4 9  | 6 2 1  | 5 7 8\n",
            "- - - - - - - - - - - - - \n",
            "3 5 7  | 9 4 1  | 2 6 8\n",
            "8 6 1  | 2 5 7  | 9 3 4\n",
            "9 2 4  | 3 6 8  | 7 1 5\n",
            "- - - - - - - - - - - - - \n",
            "5 7 6  | 3 4 8  | 9 1 2\n",
            "1 2 3  | 5 9 7  | 4 6 8\n",
            "8 4 9  | 2 1 6  | 3 5 7\n"
          ],
          "name": "stdout"
        }
      ]
    }
  ]
}